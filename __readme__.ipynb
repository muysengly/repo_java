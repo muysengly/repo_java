{
 "cells": [
  {
   "cell_type": "raw",
   "metadata": {
    "vscode": {
     "languageId": "raw"
    }
   },
   "source": [
    "Using two separate comment lines, first in Khmer and then in English, explain each line of code."
   ]
  },
  {
   "cell_type": "raw",
   "metadata": {
    "vscode": {
     "languageId": "raw"
    }
   },
   "source": [
    "Explain each line of code as comments using Khmer language."
   ]
  },
  {
   "cell_type": "raw",
   "metadata": {
    "vscode": {
     "languageId": "raw"
    }
   },
   "source": [
    "https://media.pearsoncmg.com/ph/esm/ecs_liang_java_13e/cw/content/ExampleByChapters.html"
   ]
  },
  {
   "cell_type": "raw",
   "metadata": {
    "vscode": {
     "languageId": "raw"
    }
   },
   "source": [
    "// run java file on terminal\n",
    "{\n",
    "    \"key\": \"ctrl+enter\",\n",
    "    \"command\": \"workbench.action.terminal.sendSequence\",\n",
    "    \"args\": {\n",
    "        \"text\": \"cd \\\"${fileDirname}\\\"\\u000Dcls\\u000Djava ${fileBasename}\\u000D\"\n",
    "    },\n",
    "    \"when\": \"editorFocus && editorLangId == 'java'\",\n",
    "},"
   ]
  },
  {
   "cell_type": "raw",
   "metadata": {},
   "source": [
    "\n",
    "// run javafx file on terminal\n",
    "{\n",
    "    \"key\": \"shift+enter\",\n",
    "    \"command\": \"workbench.action.terminal.sendSequence\",\n",
    "    \"args\": {\n",
    "        \"text\": \"cd \\\"${fileDirname}\\\"\\u000Dcls\\u000Djavac --module-path \\\"${workspaceFolder}/javafx_sdk/lib\\\" --add-modules javafx.controls,javafx.fxml *.java\\u000Djava --module-path \\\"${workspaceFolder}/javafx_sdk/lib\\\" --add-modules javafx.controls,javafx.fxml ${fileBasenameNoExtension}\\u000D\"\n",
    "    },\n",
    "    \"when\": \"editorFocus && editorLangId == 'java'\",\n",
    "},"
   ]
  }
 ],
 "metadata": {
  "language_info": {
   "name": "python"
  }
 },
 "nbformat": 4,
 "nbformat_minor": 2
}
