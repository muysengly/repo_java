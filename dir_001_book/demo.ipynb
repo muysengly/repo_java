{
 "cells": [
  {
   "cell_type": "code",
   "execution_count": null,
   "metadata": {},
   "outputs": [],
   "source": [
    "import PyPDF2\n",
    "\n",
    "def pdf_to_text(pdf_path, txt_path):\n",
    "    \"\"\"\n",
    "    Reads a PDF file and saves its content to a text file.\n",
    "\n",
    "    Args:\n",
    "        pdf_path (str): The path to the PDF file.\n",
    "        txt_path (str): The path to the output text file.\n",
    "    \"\"\"\n",
    "    try:\n",
    "        with open(pdf_path, 'rb') as pdf_file:\n",
    "            pdf_reader = PyPDF2.PdfReader(pdf_file)\n",
    "            text = \"\"\n",
    "            for page_num in range(len(pdf_reader.pages)):\n",
    "                page = pdf_reader.pages[page_num]\n",
    "                text += page.extract_text()\n",
    "\n",
    "        with open(txt_path, 'w', encoding='utf-8') as txt_file:\n",
    "            txt_file.write(text)\n",
    "\n",
    "        print(f\"Successfully converted {pdf_path} to {txt_path}\")\n",
    "\n",
    "    except FileNotFoundError:\n",
    "        print(f\"Error: PDF file not found at {pdf_path}\")\n",
    "    except Exception as e:\n",
    "        print(f\"An error occurred: {e}\")\n",
    "\n",
    "\n",
    "pdf_file_path = \"./chapter_001.pdf\"  # Replace with your PDF file path\n",
    "text_file_path = \"output.txt\"  # Replace with your desired text file path\n",
    "pdf_to_text(pdf_file_path, text_file_path)"
   ]
  }
 ],
 "metadata": {
  "kernelspec": {
   "display_name": "py312",
   "language": "python",
   "name": "python3"
  },
  "language_info": {
   "name": "python",
   "version": "3.12.8"
  }
 },
 "nbformat": 4,
 "nbformat_minor": 2
}
