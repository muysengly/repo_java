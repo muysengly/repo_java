{
 "cells": [
  {
   "cell_type": "code",
   "execution_count": 1,
   "metadata": {},
   "outputs": [],
   "source": [
    "import os\n",
    "import re\n",
    "import numpy as np"
   ]
  },
  {
   "cell_type": "code",
   "execution_count": 10,
   "metadata": {},
   "outputs": [
    {
     "data": {
      "text/plain": [
       "['dir_005_i3_gtr_student_list_2024_2025']"
      ]
     },
     "execution_count": 10,
     "metadata": {},
     "output_type": "execute_result"
    }
   ],
   "source": [
    "def list_folders(directory, pattern=None):\n",
    "    if pattern is not None:\n",
    "        return [f for f in os.listdir(directory) if os.path.isdir(os.path.join(directory, f)) and re.search(pattern, f)]\n",
    "    else:\n",
    "        return [f for f in os.listdir(directory) if os.path.isdir(os.path.join(directory, f))]\n",
    "\n",
    "\n",
    "def list_files(directory, extension):\n",
    "    return [f for f in os.listdir(directory) if os.path.isfile(os.path.join(directory, f)) and f.endswith(extension)]\n",
    "\n",
    "\n",
    "names = list_folders(\".\", \"gtr\")\n",
    "# names = list_folders(\".\")\n",
    "names\n",
    "\n",
    "# names = list_files(\".\", \"_pdf\")\n",
    "# names"
   ]
  },
  {
   "cell_type": "code",
   "execution_count": 16,
   "metadata": {},
   "outputs": [
    {
     "data": {
      "text/plain": [
       "['dir_006_i3_gtr_student_list_2024_2025']"
      ]
     },
     "execution_count": 16,
     "metadata": {},
     "output_type": "execute_result"
    }
   ],
   "source": [
    "new_names = names.copy()\n",
    "\n",
    "for i in range(len(names)):\n",
    "    new_names[i] = names[i].lower()\n",
    "\n",
    "# new_names = [name + \".listing\" for name in new_names]\n",
    "# new_names = [name.replace(\"[my] \", \"my_\") for name in new_names]\n",
    "new_names = [name.replace(\".\", \"_\") for name in new_names]\n",
    "new_names = [name.replace(\"-\", \"_\") for name in new_names]\n",
    "new_names = [name.replace(\" \", \"_\") for name in new_names]\n",
    "# new_names = [f\"dir_{i:03d}_{name}\" for i, name in enumerate(new_names)]\n",
    "new_names = [f\"dir_006_{name[8:]}\" for i, name in enumerate(new_names)]\n",
    "# new_names = [f\"my_{name}\" for i, name in enumerate(new_names)]\n",
    "new_names"
   ]
  },
  {
   "cell_type": "code",
   "execution_count": 17,
   "metadata": {},
   "outputs": [],
   "source": [
    "for i in range(len(names)):\n",
    "    os.rename(names[i], new_names[i])"
   ]
  }
 ],
 "metadata": {
  "kernelspec": {
   "display_name": "py312",
   "language": "python",
   "name": "python3"
  },
  "language_info": {
   "codemirror_mode": {
    "name": "ipython",
    "version": 3
   },
   "file_extension": ".py",
   "mimetype": "text/x-python",
   "name": "python",
   "nbconvert_exporter": "python",
   "pygments_lexer": "ipython3",
   "version": "3.12.8"
  }
 },
 "nbformat": 4,
 "nbformat_minor": 2
}
